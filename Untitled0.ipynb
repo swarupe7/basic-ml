{
  "nbformat": 4,
  "nbformat_minor": 0,
  "metadata": {
    "colab": {
      "name": "Untitled0.ipynb",
      "provenance": [],
      "authorship_tag": "ABX9TyMC60IScsu43Cd9bqS9GdGL",
      "include_colab_link": true
    },
    "kernelspec": {
      "name": "python3",
      "display_name": "Python 3"
    },
    "language_info": {
      "name": "python"
    }
  },
  "cells": [
    {
      "cell_type": "markdown",
      "metadata": {
        "id": "view-in-github",
        "colab_type": "text"
      },
      "source": [
        "<a href=\"https://colab.research.google.com/github/swarupe7/basic-ml/blob/main/Untitled0.ipynb\" target=\"_parent\"><img src=\"https://colab.research.google.com/assets/colab-badge.svg\" alt=\"Open In Colab\"/></a>"
      ]
    },
    {
      "cell_type": "code",
      "metadata": {
        "colab": {
          "base_uri": "https://localhost:8080/"
        },
        "id": "TFg5drDvbe45",
        "outputId": "52f34c3a-1ce8-457a-db20-5ea186b82277"
      },
      "source": [
        "#gender detector\n",
        "Name=input()\n",
        "if Name[-1]=='a' or Name[-1]=='i':\n",
        "   print(\"girl\")\n",
        "else:\n",
        "   print(\"boy\")"
      ],
      "execution_count": 4,
      "outputs": [
        {
          "output_type": "stream",
          "text": [
            "Swarup\n",
            "boy\n"
          ],
          "name": "stdout"
        }
      ]
    },
    {
      "cell_type": "code",
      "metadata": {
        "colab": {
          "base_uri": "https://localhost:8080/"
        },
        "id": "2weyzIZrbikH",
        "outputId": "5254de56-c0f2-45b5-f9d5-ea102cb5a7f3"
      },
      "source": [
        "#adding up two numbers.\n",
        "A=int(input())\n",
        "B=int(input())\n",
        "Z=A+B\n",
        "print(Z)"
      ],
      "execution_count": 2,
      "outputs": [
        {
          "output_type": "stream",
          "text": [
            "4\n",
            "5\n",
            "9\n"
          ],
          "name": "stdout"
        }
      ]
    },
    {
      "cell_type": "code",
      "metadata": {
        "colab": {
          "base_uri": "https://localhost:8080/"
        },
        "id": "WNKuBZekdOa3",
        "outputId": "678d5702-56fd-4545-f426-03073fd19b50"
      },
      "source": [
        "#palindrome checker\n",
        "A=int(input())\n",
        "X=str(A)\n",
        "B=X[::-1]\n",
        "if X==B:\n",
        "    print(\" Yes it's a palindrome\")\n",
        "else:\n",
        "    print(\"no it's not a palindrome\")"
      ],
      "execution_count": 6,
      "outputs": [
        {
          "output_type": "stream",
          "text": [
            "12321\n",
            " Yes it's a palindrome\n"
          ],
          "name": "stdout"
        }
      ]
    }
  ]
}